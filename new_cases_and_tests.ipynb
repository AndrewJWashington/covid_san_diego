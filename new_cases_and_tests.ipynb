{
 "cells": [
  {
   "cell_type": "markdown",
   "metadata": {},
   "source": [
    "I keep checking [San Diego County's Covid-19 webpage](https://www.sandiegocounty.gov/content/sdc/hhsa/programs/phs/community_epidemiology/dc/2019-nCoV/status.html) for up-to-date stats. I'm interested in the number of new cases per day, since that's what tells us if Covid-19 is spreading at an exponential rate (which would be _really_ scary – see [Simulating an epidemic](https://www.youtube.com/watch?v=gxAaO2rsdIs) by Grant Sanderson of 3blue1brown). The county website has new cases per day already, but also shows that the test rate fluctuates wildly. Now what I'm wondering is whether the new cases per day is indicative of _actual_ new cases or only the number of tests."
   ]
  },
  {
   "cell_type": "markdown",
   "metadata": {},
   "source": [
    "First let's get the data."
   ]
  },
  {
   "cell_type": "code",
   "execution_count": 1,
   "metadata": {
    "collapsed": true
   },
   "outputs": [],
   "source": [
    "import requests\n",
    "import pandas as pd\n",
    "import matplotlib.pyplot as plt\n",
    "%matplotlib inline\n",
    "\n",
    "figsize = (12, 3)"
   ]
  },
  {
   "cell_type": "markdown",
   "metadata": {},
   "source": [
    "We can find the query URL [here](https://sdgis-sandag.opendata.arcgis.com/datasets/covid-19-statistics-san-diego-county?orderBy=date&orderByAsc=false&selectedAttribute=tests)."
   ]
  },
  {
   "cell_type": "code",
   "execution_count": 2,
   "metadata": {
    "collapsed": false
   },
   "outputs": [
    {
     "name": "stdout",
     "output_type": "stream",
     "text": [
      "Successfully ran API query\n"
     ]
    }
   ],
   "source": [
    "query_url = 'https://gis-public.sandiegocounty.gov/arcgis/rest/services/Hosted/COVID_19_Statistics_San_Diego_County/FeatureServer/0/query?where=1%3D1&outFields=*&outSR=4326&f=json'\n",
    "response = requests.get(query_url)\n",
    "\n",
    "if response.status_code == 200:\n",
    "    print('Successfully ran API query')"
   ]
  },
  {
   "cell_type": "code",
   "execution_count": 3,
   "metadata": {
    "collapsed": false
   },
   "outputs": [
    {
     "data": {
      "text/plain": [
       "dict_keys(['exceededTransferLimit', 'features', 'fields', 'geometryType', 'spatialReference', 'globalIdFieldName', 'objectIdFieldName', 'hasZ', 'hasM'])"
      ]
     },
     "execution_count": 3,
     "metadata": {},
     "output_type": "execute_result"
    }
   ],
   "source": [
    "response.json().keys()"
   ]
  },
  {
   "cell_type": "code",
   "execution_count": 4,
   "metadata": {
    "collapsed": false,
    "deletable": true,
    "editable": true
   },
   "outputs": [
    {
     "data": {
      "text/plain": [
       "65"
      ]
     },
     "execution_count": 4,
     "metadata": {},
     "output_type": "execute_result"
    }
   ],
   "source": [
    "len(response.json()['features'])"
   ]
  },
  {
   "cell_type": "markdown",
   "metadata": {},
   "source": [
    "Probably one for each day, it's been about two months since mid-March when California started quarantining."
   ]
  },
  {
   "cell_type": "code",
   "execution_count": 5,
   "metadata": {
    "collapsed": false,
    "scrolled": false
   },
   "outputs": [
    {
     "data": {
      "text/html": [
       "<div>\n",
       "<table border=\"1\" class=\"dataframe\">\n",
       "  <thead>\n",
       "    <tr style=\"text-align: right;\">\n",
       "      <th></th>\n",
       "      <th>objectid</th>\n",
       "      <th>date</th>\n",
       "      <th>tests</th>\n",
       "      <th>positives</th>\n",
       "      <th>hospitalized</th>\n",
       "      <th>icu</th>\n",
       "      <th>deaths</th>\n",
       "      <th>newcases</th>\n",
       "      <th>age_9</th>\n",
       "      <th>age10_19</th>\n",
       "      <th>...</th>\n",
       "      <th>age80_plus</th>\n",
       "      <th>ageunknow</th>\n",
       "      <th>age20_29</th>\n",
       "      <th>genderfemale</th>\n",
       "      <th>gendermale</th>\n",
       "      <th>gendeunk</th>\n",
       "      <th>age30_39</th>\n",
       "      <th>globalid</th>\n",
       "      <th>newtests</th>\n",
       "      <th>rolling_perc_pos_cases</th>\n",
       "    </tr>\n",
       "  </thead>\n",
       "  <tbody>\n",
       "    <tr>\n",
       "      <th>27</th>\n",
       "      <td>87.0</td>\n",
       "      <td>1.583568e+12</td>\n",
       "      <td>None</td>\n",
       "      <td>1.0</td>\n",
       "      <td>0</td>\n",
       "      <td>0</td>\n",
       "      <td>0</td>\n",
       "      <td>1.0</td>\n",
       "      <td>None</td>\n",
       "      <td>None</td>\n",
       "      <td>...</td>\n",
       "      <td>None</td>\n",
       "      <td>None</td>\n",
       "      <td>None</td>\n",
       "      <td>None</td>\n",
       "      <td>None</td>\n",
       "      <td>None</td>\n",
       "      <td>None</td>\n",
       "      <td>{CE98E5A7-7D8E-4D20-BC84-069A17D43232}</td>\n",
       "      <td>None</td>\n",
       "      <td>None</td>\n",
       "    </tr>\n",
       "    <tr>\n",
       "      <th>28</th>\n",
       "      <td>88.0</td>\n",
       "      <td>1.583654e+12</td>\n",
       "      <td>None</td>\n",
       "      <td>2.0</td>\n",
       "      <td>0</td>\n",
       "      <td>0</td>\n",
       "      <td>0</td>\n",
       "      <td>1.0</td>\n",
       "      <td>None</td>\n",
       "      <td>None</td>\n",
       "      <td>...</td>\n",
       "      <td>None</td>\n",
       "      <td>None</td>\n",
       "      <td>None</td>\n",
       "      <td>None</td>\n",
       "      <td>None</td>\n",
       "      <td>None</td>\n",
       "      <td>None</td>\n",
       "      <td>{8AC07123-E9DA-4D83-9720-7BF93E4B6C44}</td>\n",
       "      <td>None</td>\n",
       "      <td>None</td>\n",
       "    </tr>\n",
       "    <tr>\n",
       "      <th>29</th>\n",
       "      <td>89.0</td>\n",
       "      <td>1.583741e+12</td>\n",
       "      <td>None</td>\n",
       "      <td>2.0</td>\n",
       "      <td>0</td>\n",
       "      <td>0</td>\n",
       "      <td>0</td>\n",
       "      <td>0.0</td>\n",
       "      <td>None</td>\n",
       "      <td>None</td>\n",
       "      <td>...</td>\n",
       "      <td>None</td>\n",
       "      <td>None</td>\n",
       "      <td>None</td>\n",
       "      <td>None</td>\n",
       "      <td>None</td>\n",
       "      <td>None</td>\n",
       "      <td>None</td>\n",
       "      <td>{52083240-452D-41A6-BD0F-2D424B2745BC}</td>\n",
       "      <td>None</td>\n",
       "      <td>None</td>\n",
       "    </tr>\n",
       "    <tr>\n",
       "      <th>30</th>\n",
       "      <td>90.0</td>\n",
       "      <td>1.583827e+12</td>\n",
       "      <td>None</td>\n",
       "      <td>4.0</td>\n",
       "      <td>0</td>\n",
       "      <td>0</td>\n",
       "      <td>0</td>\n",
       "      <td>2.0</td>\n",
       "      <td>None</td>\n",
       "      <td>None</td>\n",
       "      <td>...</td>\n",
       "      <td>None</td>\n",
       "      <td>None</td>\n",
       "      <td>None</td>\n",
       "      <td>None</td>\n",
       "      <td>None</td>\n",
       "      <td>None</td>\n",
       "      <td>None</td>\n",
       "      <td>{9DF87361-2D53-4A06-8DF9-A986B660061D}</td>\n",
       "      <td>None</td>\n",
       "      <td>None</td>\n",
       "    </tr>\n",
       "    <tr>\n",
       "      <th>0</th>\n",
       "      <td>59.0</td>\n",
       "      <td>1.583914e+12</td>\n",
       "      <td>123</td>\n",
       "      <td>5.0</td>\n",
       "      <td>None</td>\n",
       "      <td>None</td>\n",
       "      <td>None</td>\n",
       "      <td>1.0</td>\n",
       "      <td>None</td>\n",
       "      <td>None</td>\n",
       "      <td>...</td>\n",
       "      <td>None</td>\n",
       "      <td>None</td>\n",
       "      <td>None</td>\n",
       "      <td>None</td>\n",
       "      <td>None</td>\n",
       "      <td>None</td>\n",
       "      <td>None</td>\n",
       "      <td>{78698F35-A6E9-48CB-8C8D-67A70EC15C1D}</td>\n",
       "      <td>None</td>\n",
       "      <td>None</td>\n",
       "    </tr>\n",
       "  </tbody>\n",
       "</table>\n",
       "<p>5 rows × 24 columns</p>\n",
       "</div>"
      ],
      "text/plain": [
       "    objectid          date tests  positives hospitalized   icu deaths  \\\n",
       "27      87.0  1.583568e+12  None        1.0            0     0      0   \n",
       "28      88.0  1.583654e+12  None        2.0            0     0      0   \n",
       "29      89.0  1.583741e+12  None        2.0            0     0      0   \n",
       "30      90.0  1.583827e+12  None        4.0            0     0      0   \n",
       "0       59.0  1.583914e+12   123        5.0         None  None   None   \n",
       "\n",
       "    newcases age_9 age10_19          ...           age80_plus ageunknow  \\\n",
       "27       1.0  None     None          ...                 None      None   \n",
       "28       1.0  None     None          ...                 None      None   \n",
       "29       0.0  None     None          ...                 None      None   \n",
       "30       2.0  None     None          ...                 None      None   \n",
       "0        1.0  None     None          ...                 None      None   \n",
       "\n",
       "   age20_29 genderfemale gendermale gendeunk age30_39  \\\n",
       "27     None         None       None     None     None   \n",
       "28     None         None       None     None     None   \n",
       "29     None         None       None     None     None   \n",
       "30     None         None       None     None     None   \n",
       "0      None         None       None     None     None   \n",
       "\n",
       "                                  globalid newtests rolling_perc_pos_cases  \n",
       "27  {CE98E5A7-7D8E-4D20-BC84-069A17D43232}     None                   None  \n",
       "28  {8AC07123-E9DA-4D83-9720-7BF93E4B6C44}     None                   None  \n",
       "29  {52083240-452D-41A6-BD0F-2D424B2745BC}     None                   None  \n",
       "30  {9DF87361-2D53-4A06-8DF9-A986B660061D}     None                   None  \n",
       "0   {78698F35-A6E9-48CB-8C8D-67A70EC15C1D}     None                   None  \n",
       "\n",
       "[5 rows x 24 columns]"
      ]
     },
     "execution_count": 5,
     "metadata": {},
     "output_type": "execute_result"
    }
   ],
   "source": [
    "# we're working with such a small dataset that we don't have to worry about computation time.\n",
    "# It'd probably take me longer to optimize than the time I'd save optimizing.\n",
    "example = response.json()['features'][0]\n",
    "cols = example['attributes'].keys()\n",
    "df = pd.DataFrame(columns=cols)\n",
    "\n",
    "for feature in response.json()['features']:\n",
    "    df = df.append(pd.Series(feature['attributes']), ignore_index=True)\n",
    "\n",
    "#df.set_index('objectid', inplace=True)\n",
    "df.sort_values('date', inplace=True)\n",
    "\n",
    "df.head()"
   ]
  },
  {
   "cell_type": "markdown",
   "metadata": {},
   "source": [
    "Alright, data is there, but not exactly in the format we want."
   ]
  },
  {
   "cell_type": "markdown",
   "metadata": {},
   "source": [
    "First, let's convert the date from an integer to a datetime"
   ]
  },
  {
   "cell_type": "code",
   "execution_count": 6,
   "metadata": {
    "collapsed": true
   },
   "outputs": [],
   "source": [
    "# todo - convert data to how we want it"
   ]
  },
  {
   "cell_type": "markdown",
   "metadata": {},
   "source": [
    "Okay, now that we have the data, let's try our first approach. Let's just overlay the two graphs:"
   ]
  },
  {
   "cell_type": "code",
   "execution_count": 7,
   "metadata": {
    "collapsed": false
   },
   "outputs": [
    {
     "data": {
      "image/png": "[encoded data removed]",
      "text/plain": [
       "<matplotlib.figure.Figure at 0x1074e7dd8>"
      ]
     },
     "metadata": {},
     "output_type": "display_data"
    }
   ],
   "source": [
    "df[['newcases', 'newtests']].plot.bar(figsize=figsize, secondary_y= 'newtests');"
   ]
  },
  {
   "cell_type": "code",
   "execution_count": 8,
   "metadata": {
    "collapsed": false
   },
   "outputs": [
    {
     "data": {
      "image/png": "[encoded data removed]",
      "text/plain": [
       "<matplotlib.figure.Figure at 0x109c76f98>"
      ]
     },
     "metadata": {},
     "output_type": "display_data"
    }
   ],
   "source": [
    "plt.scatter(df['newcases'].values, df['newtests'].values)\n",
    "plt.ylabel('New Tests (daily)')\n",
    "plt.xlabel('New Cases (daily)');"
   ]
  }
 ],
 "metadata": {
  "kernelspec": {
   "display_name": "Python 3",
   "language": "python",
   "name": "python3"
  },
  "language_info": {
   "codemirror_mode": {
    "name": "ipython",
    "version": 3
   },
   "file_extension": ".py",
   "mimetype": "text/x-python",
   "name": "python",
   "nbconvert_exporter": "python",
   "pygments_lexer": "ipython3",
   "version": "3.6.0"
  }
 },
 "nbformat": 4,
 "nbformat_minor": 2
}
