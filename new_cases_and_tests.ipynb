{
 "cells": [
  {
   "cell_type": "markdown",
   "metadata": {
    "deletable": true,
    "editable": true
   },
   "source": [
    "# Covid-19 Situation in San Diego\n",
    "I keep checking [San Diego County's Covid-19 webpage](https://www.sandiegocounty.gov/content/sdc/hhsa/programs/phs/community_epidemiology/dc/2019-nCoV/status.html) for up-to-date stats. I'm interested in the number of new cases per day, since that's what tells us if Covid-19 is spreading at an exponential rate (which would be _really_ scary – see [Simulating an epidemic](https://www.youtube.com/watch?v=gxAaO2rsdIs) by Grant Sanderson of 3blue1brown). The county website has new cases per day already, so perfect, right? The thing is, if you check the number of new _tests_ by day, you'll see that it looks awfully like the number of new cases per day. Now what I'm wondering is whether the new cases per day is indicative of _actual_ new cases or only the number of tests."
   ]
  },
  {
   "cell_type": "markdown",
   "metadata": {
    "deletable": true,
    "editable": true
   },
   "source": [
    "First let's get the data."
   ]
  },
  {
   "cell_type": "code",
   "execution_count": 1,
   "metadata": {
    "collapsed": false,
    "deletable": true,
    "editable": true
   },
   "outputs": [],
   "source": [
    "import requests\n",
    "import datetime\n",
    "import numpy as np\n",
    "import pandas as pd\n",
    "import matplotlib.pyplot as plt\n",
    "%matplotlib inline\n",
    "\n",
    "figsize = (15, 3)"
   ]
  },
  {
   "cell_type": "markdown",
   "metadata": {
    "deletable": true,
    "editable": true
   },
   "source": [
    "We can find the query URL [here](https://sdgis-sandag.opendata.arcgis.com/datasets/covid-19-statistics-san-diego-county?orderBy=date&orderByAsc=false&selectedAttribute=tests). SANDAG has some amazing datasets with great documentation by the way. I'd highly suggest anyone interested in Data Science who lives in the San Diego area to go check out the other data sets they have."
   ]
  },
  {
   "cell_type": "code",
   "execution_count": 2,
   "metadata": {
    "collapsed": false,
    "deletable": true,
    "editable": true
   },
   "outputs": [
    {
     "name": "stdout",
     "output_type": "stream",
     "text": [
      "Successfully ran API query\n"
     ]
    }
   ],
   "source": [
    "query_url = 'https://gis-public.sandiegocounty.gov/arcgis/rest/services/Hosted/COVID_19_Statistics_San_Diego_County/FeatureServer/0/query?where=1%3D1&outFields=*&outSR=4326&f=json'\n",
    "response = requests.get(query_url)\n",
    "\n",
    "if response.status_code == 200:\n",
    "    print('Successfully ran API query')"
   ]
  },
  {
   "cell_type": "code",
   "execution_count": 3,
   "metadata": {
    "collapsed": false,
    "deletable": true,
    "editable": true
   },
   "outputs": [
    {
     "data": {
      "text/plain": [
       "dict_keys(['exceededTransferLimit', 'features', 'fields', 'geometryType', 'spatialReference', 'globalIdFieldName', 'objectIdFieldName', 'hasZ', 'hasM'])"
      ]
     },
     "execution_count": 3,
     "metadata": {},
     "output_type": "execute_result"
    }
   ],
   "source": [
    "response.json().keys()"
   ]
  },
  {
   "cell_type": "markdown",
   "metadata": {
    "deletable": true,
    "editable": true
   },
   "source": [
    "Alright, most of those are just extra metadata. What we care about is in `features`."
   ]
  },
  {
   "cell_type": "code",
   "execution_count": 4,
   "metadata": {
    "collapsed": false,
    "deletable": true,
    "editable": true
   },
   "outputs": [
    {
     "data": {
      "text/plain": [
       "75"
      ]
     },
     "execution_count": 4,
     "metadata": {},
     "output_type": "execute_result"
    }
   ],
   "source": [
    "len(response.json()['features'])"
   ]
  },
  {
   "cell_type": "markdown",
   "metadata": {
    "deletable": true,
    "editable": true
   },
   "source": [
    "We have one entry per day since mid-March when California started quarantining."
   ]
  },
  {
   "cell_type": "code",
   "execution_count": 5,
   "metadata": {
    "collapsed": false,
    "deletable": true,
    "editable": true,
    "scrolled": false
   },
   "outputs": [
    {
     "data": {
      "text/html": [
       "<div>\n",
       "<style scoped>\n",
       "    .dataframe tbody tr th:only-of-type {\n",
       "        vertical-align: middle;\n",
       "    }\n",
       "\n",
       "    .dataframe tbody tr th {\n",
       "        vertical-align: top;\n",
       "    }\n",
       "\n",
       "    .dataframe thead th {\n",
       "        text-align: right;\n",
       "    }\n",
       "</style>\n",
       "<table border=\"1\" class=\"dataframe\">\n",
       "  <thead>\n",
       "    <tr style=\"text-align: right;\">\n",
       "      <th></th>\n",
       "      <th>objectid</th>\n",
       "      <th>date</th>\n",
       "      <th>tests</th>\n",
       "      <th>positives</th>\n",
       "      <th>hospitalized</th>\n",
       "      <th>icu</th>\n",
       "      <th>deaths</th>\n",
       "      <th>newcases</th>\n",
       "      <th>age_9</th>\n",
       "      <th>age10_19</th>\n",
       "      <th>...</th>\n",
       "      <th>age80_plus</th>\n",
       "      <th>ageunknow</th>\n",
       "      <th>age20_29</th>\n",
       "      <th>genderfemale</th>\n",
       "      <th>gendermale</th>\n",
       "      <th>gendeunk</th>\n",
       "      <th>age30_39</th>\n",
       "      <th>globalid</th>\n",
       "      <th>newtests</th>\n",
       "      <th>rolling_perc_pos_cases</th>\n",
       "    </tr>\n",
       "  </thead>\n",
       "  <tbody>\n",
       "    <tr>\n",
       "      <th>31</th>\n",
       "      <td>87</td>\n",
       "      <td>1583568000000</td>\n",
       "      <td>None</td>\n",
       "      <td>1</td>\n",
       "      <td>0</td>\n",
       "      <td>0</td>\n",
       "      <td>0</td>\n",
       "      <td>1</td>\n",
       "      <td>None</td>\n",
       "      <td>None</td>\n",
       "      <td>...</td>\n",
       "      <td>None</td>\n",
       "      <td>None</td>\n",
       "      <td>None</td>\n",
       "      <td>None</td>\n",
       "      <td>None</td>\n",
       "      <td>None</td>\n",
       "      <td>None</td>\n",
       "      <td>{CE98E5A7-7D8E-4D20-BC84-069A17D43232}</td>\n",
       "      <td>None</td>\n",
       "      <td>None</td>\n",
       "    </tr>\n",
       "    <tr>\n",
       "      <th>32</th>\n",
       "      <td>88</td>\n",
       "      <td>1583654400000</td>\n",
       "      <td>None</td>\n",
       "      <td>2</td>\n",
       "      <td>0</td>\n",
       "      <td>0</td>\n",
       "      <td>0</td>\n",
       "      <td>1</td>\n",
       "      <td>None</td>\n",
       "      <td>None</td>\n",
       "      <td>...</td>\n",
       "      <td>None</td>\n",
       "      <td>None</td>\n",
       "      <td>None</td>\n",
       "      <td>None</td>\n",
       "      <td>None</td>\n",
       "      <td>None</td>\n",
       "      <td>None</td>\n",
       "      <td>{8AC07123-E9DA-4D83-9720-7BF93E4B6C44}</td>\n",
       "      <td>None</td>\n",
       "      <td>None</td>\n",
       "    </tr>\n",
       "    <tr>\n",
       "      <th>33</th>\n",
       "      <td>89</td>\n",
       "      <td>1583740800000</td>\n",
       "      <td>None</td>\n",
       "      <td>2</td>\n",
       "      <td>0</td>\n",
       "      <td>0</td>\n",
       "      <td>0</td>\n",
       "      <td>0</td>\n",
       "      <td>None</td>\n",
       "      <td>None</td>\n",
       "      <td>...</td>\n",
       "      <td>None</td>\n",
       "      <td>None</td>\n",
       "      <td>None</td>\n",
       "      <td>None</td>\n",
       "      <td>None</td>\n",
       "      <td>None</td>\n",
       "      <td>None</td>\n",
       "      <td>{52083240-452D-41A6-BD0F-2D424B2745BC}</td>\n",
       "      <td>None</td>\n",
       "      <td>None</td>\n",
       "    </tr>\n",
       "    <tr>\n",
       "      <th>34</th>\n",
       "      <td>90</td>\n",
       "      <td>1583827200000</td>\n",
       "      <td>None</td>\n",
       "      <td>4</td>\n",
       "      <td>0</td>\n",
       "      <td>0</td>\n",
       "      <td>0</td>\n",
       "      <td>2</td>\n",
       "      <td>None</td>\n",
       "      <td>None</td>\n",
       "      <td>...</td>\n",
       "      <td>None</td>\n",
       "      <td>None</td>\n",
       "      <td>None</td>\n",
       "      <td>None</td>\n",
       "      <td>None</td>\n",
       "      <td>None</td>\n",
       "      <td>None</td>\n",
       "      <td>{9DF87361-2D53-4A06-8DF9-A986B660061D}</td>\n",
       "      <td>None</td>\n",
       "      <td>None</td>\n",
       "    </tr>\n",
       "    <tr>\n",
       "      <th>3</th>\n",
       "      <td>59</td>\n",
       "      <td>1583913600000</td>\n",
       "      <td>123</td>\n",
       "      <td>5</td>\n",
       "      <td>None</td>\n",
       "      <td>None</td>\n",
       "      <td>None</td>\n",
       "      <td>1</td>\n",
       "      <td>None</td>\n",
       "      <td>None</td>\n",
       "      <td>...</td>\n",
       "      <td>None</td>\n",
       "      <td>None</td>\n",
       "      <td>None</td>\n",
       "      <td>None</td>\n",
       "      <td>None</td>\n",
       "      <td>None</td>\n",
       "      <td>None</td>\n",
       "      <td>{78698F35-A6E9-48CB-8C8D-67A70EC15C1D}</td>\n",
       "      <td>None</td>\n",
       "      <td>None</td>\n",
       "    </tr>\n",
       "  </tbody>\n",
       "</table>\n",
       "<p>5 rows × 24 columns</p>\n",
       "</div>"
      ],
      "text/plain": [
       "   objectid           date tests positives hospitalized   icu deaths newcases  \\\n",
       "31       87  1583568000000  None         1            0     0      0        1   \n",
       "32       88  1583654400000  None         2            0     0      0        1   \n",
       "33       89  1583740800000  None         2            0     0      0        0   \n",
       "34       90  1583827200000  None         4            0     0      0        2   \n",
       "3        59  1583913600000   123         5         None  None   None        1   \n",
       "\n",
       "   age_9 age10_19  ... age80_plus ageunknow age20_29 genderfemale gendermale  \\\n",
       "31  None     None  ...       None      None     None         None       None   \n",
       "32  None     None  ...       None      None     None         None       None   \n",
       "33  None     None  ...       None      None     None         None       None   \n",
       "34  None     None  ...       None      None     None         None       None   \n",
       "3   None     None  ...       None      None     None         None       None   \n",
       "\n",
       "   gendeunk age30_39                                globalid newtests  \\\n",
       "31     None     None  {CE98E5A7-7D8E-4D20-BC84-069A17D43232}     None   \n",
       "32     None     None  {8AC07123-E9DA-4D83-9720-7BF93E4B6C44}     None   \n",
       "33     None     None  {52083240-452D-41A6-BD0F-2D424B2745BC}     None   \n",
       "34     None     None  {9DF87361-2D53-4A06-8DF9-A986B660061D}     None   \n",
       "3      None     None  {78698F35-A6E9-48CB-8C8D-67A70EC15C1D}     None   \n",
       "\n",
       "   rolling_perc_pos_cases  \n",
       "31                   None  \n",
       "32                   None  \n",
       "33                   None  \n",
       "34                   None  \n",
       "3                    None  \n",
       "\n",
       "[5 rows x 24 columns]"
      ]
     },
     "execution_count": 5,
     "metadata": {},
     "output_type": "execute_result"
    }
   ],
   "source": [
    "# we're working with such a small dataset that we don't have to worry about computation time.\n",
    "# It'd probably take me longer to optimize than the time I'd save optimizing.\n",
    "example = response.json()['features'][0]\n",
    "cols = example['attributes'].keys()\n",
    "df = pd.DataFrame(columns=cols)\n",
    "\n",
    "for feature in response.json()['features']:\n",
    "    df = df.append(pd.Series(feature['attributes']), ignore_index=True)\n",
    "\n",
    "#df.set_index('objectid', inplace=True)\n",
    "df.sort_values('date', inplace=True)\n",
    "\n",
    "df.head()"
   ]
  },
  {
   "cell_type": "markdown",
   "metadata": {
    "deletable": true,
    "editable": true
   },
   "source": [
    "Alright, data is there, but not exactly in the format we want."
   ]
  },
  {
   "cell_type": "markdown",
   "metadata": {
    "deletable": true,
    "editable": true
   },
   "source": [
    "First, let's convert the date from an integer to a datetime. I'm not completely familiar with ARCGIS data but the metadata says this is of type esriFieldTypeDate with length 29. A [post on StackOverflow](https://stackoverflow.com/questions/17231711/how-to-create-datetime-from-a-negative-epoch-in-python/17231712) shows us how to convert this into a datetime object."
   ]
  },
  {
   "cell_type": "code",
   "execution_count": 6,
   "metadata": {
    "collapsed": false
   },
   "outputs": [
    {
     "data": {
      "text/plain": [
       "datetime.datetime(2020, 3, 7, 8, 0)"
      ]
     },
     "execution_count": 6,
     "metadata": {},
     "output_type": "execute_result"
    }
   ],
   "source": [
    "datetime.datetime(1970, 1, 1) + datetime.timedelta(seconds=(1583568000000/1000))"
   ]
  },
  {
   "cell_type": "markdown",
   "metadata": {},
   "source": [
    "Let's double check this. On the [data page](https://sdgis-sandag.opendata.arcgis.com/datasets/covid-19-statistics-san-diego-county/data?orderBy=date&orderByAsc=false&selectedAttribute=tests) we see that objectid 133 is May 21."
   ]
  },
  {
   "cell_type": "code",
   "execution_count": 7,
   "metadata": {
    "collapsed": false
   },
   "outputs": [
    {
     "data": {
      "text/plain": [
       "datetime.datetime(2020, 5, 20, 8, 0)"
      ]
     },
     "execution_count": 7,
     "metadata": {},
     "output_type": "execute_result"
    }
   ],
   "source": [
    "datetime.datetime(1970, 1, 1) + datetime.timedelta(seconds=(df[df['objectid'] == 133].date.values[0]/1000))"
   ]
  },
  {
   "cell_type": "markdown",
   "metadata": {},
   "source": [
    "The hours are a little off (should be 1:00AM), but this is fine since we only care about the day."
   ]
  },
  {
   "cell_type": "code",
   "execution_count": 8,
   "metadata": {
    "collapsed": false,
    "scrolled": true
   },
   "outputs": [],
   "source": [
    "df['date'] = df['date'].apply(lambda x: datetime.datetime(1970, 1, 1) + datetime.timedelta(seconds=(x/1000)))\n",
    "df['date_str'] = df['date'].dt.strftime('%m/%d')\n",
    "df.sort_values('date', inplace=True)"
   ]
  },
  {
   "cell_type": "markdown",
   "metadata": {},
   "source": [
    "We also want to today's deaths - not just the total."
   ]
  },
  {
   "cell_type": "code",
   "execution_count": 79,
   "metadata": {
    "collapsed": true,
    "deletable": true,
    "editable": true
   },
   "outputs": [],
   "source": [
    "df['deaths_today'] = df['deaths'] - df.shift(periods=1)['deaths']"
   ]
  },
  {
   "cell_type": "code",
   "execution_count": 92,
   "metadata": {
    "collapsed": false,
    "deletable": true,
    "editable": true,
    "scrolled": true
   },
   "outputs": [
    {
     "data": {
      "image/png": "[encoded data removed]",
      "text/plain": [
       "<Figure size 1080x216 with 1 Axes>"
      ]
     },
     "metadata": {
      "needs_background": "light"
     },
     "output_type": "display_data"
    }
   ],
   "source": [
    "plot_by_time('deaths_today')"
   ]
  },
  {
   "cell_type": "code",
   "execution_count": 9,
   "metadata": {
    "collapsed": false
   },
   "outputs": [
    {
     "data": {
      "text/html": [
       "<div>\n",
       "<style scoped>\n",
       "    .dataframe tbody tr th:only-of-type {\n",
       "        vertical-align: middle;\n",
       "    }\n",
       "\n",
       "    .dataframe tbody tr th {\n",
       "        vertical-align: top;\n",
       "    }\n",
       "\n",
       "    .dataframe thead th {\n",
       "        text-align: right;\n",
       "    }\n",
       "</style>\n",
       "<table border=\"1\" class=\"dataframe\">\n",
       "  <thead>\n",
       "    <tr style=\"text-align: right;\">\n",
       "      <th></th>\n",
       "      <th>objectid</th>\n",
       "      <th>date</th>\n",
       "      <th>tests</th>\n",
       "      <th>positives</th>\n",
       "      <th>hospitalized</th>\n",
       "      <th>icu</th>\n",
       "      <th>deaths</th>\n",
       "      <th>newcases</th>\n",
       "      <th>age_9</th>\n",
       "      <th>age10_19</th>\n",
       "      <th>...</th>\n",
       "      <th>ageunknow</th>\n",
       "      <th>age20_29</th>\n",
       "      <th>genderfemale</th>\n",
       "      <th>gendermale</th>\n",
       "      <th>gendeunk</th>\n",
       "      <th>age30_39</th>\n",
       "      <th>globalid</th>\n",
       "      <th>newtests</th>\n",
       "      <th>rolling_perc_pos_cases</th>\n",
       "      <th>date_str</th>\n",
       "    </tr>\n",
       "  </thead>\n",
       "  <tbody>\n",
       "    <tr>\n",
       "      <th>31</th>\n",
       "      <td>87</td>\n",
       "      <td>2020-03-07 08:00:00</td>\n",
       "      <td>None</td>\n",
       "      <td>1</td>\n",
       "      <td>0</td>\n",
       "      <td>0</td>\n",
       "      <td>0</td>\n",
       "      <td>1</td>\n",
       "      <td>None</td>\n",
       "      <td>None</td>\n",
       "      <td>...</td>\n",
       "      <td>None</td>\n",
       "      <td>None</td>\n",
       "      <td>None</td>\n",
       "      <td>None</td>\n",
       "      <td>None</td>\n",
       "      <td>None</td>\n",
       "      <td>{CE98E5A7-7D8E-4D20-BC84-069A17D43232}</td>\n",
       "      <td>None</td>\n",
       "      <td>None</td>\n",
       "      <td>03/07</td>\n",
       "    </tr>\n",
       "    <tr>\n",
       "      <th>32</th>\n",
       "      <td>88</td>\n",
       "      <td>2020-03-08 08:00:00</td>\n",
       "      <td>None</td>\n",
       "      <td>2</td>\n",
       "      <td>0</td>\n",
       "      <td>0</td>\n",
       "      <td>0</td>\n",
       "      <td>1</td>\n",
       "      <td>None</td>\n",
       "      <td>None</td>\n",
       "      <td>...</td>\n",
       "      <td>None</td>\n",
       "      <td>None</td>\n",
       "      <td>None</td>\n",
       "      <td>None</td>\n",
       "      <td>None</td>\n",
       "      <td>None</td>\n",
       "      <td>{8AC07123-E9DA-4D83-9720-7BF93E4B6C44}</td>\n",
       "      <td>None</td>\n",
       "      <td>None</td>\n",
       "      <td>03/08</td>\n",
       "    </tr>\n",
       "    <tr>\n",
       "      <th>33</th>\n",
       "      <td>89</td>\n",
       "      <td>2020-03-09 08:00:00</td>\n",
       "      <td>None</td>\n",
       "      <td>2</td>\n",
       "      <td>0</td>\n",
       "      <td>0</td>\n",
       "      <td>0</td>\n",
       "      <td>0</td>\n",
       "      <td>None</td>\n",
       "      <td>None</td>\n",
       "      <td>...</td>\n",
       "      <td>None</td>\n",
       "      <td>None</td>\n",
       "      <td>None</td>\n",
       "      <td>None</td>\n",
       "      <td>None</td>\n",
       "      <td>None</td>\n",
       "      <td>{52083240-452D-41A6-BD0F-2D424B2745BC}</td>\n",
       "      <td>None</td>\n",
       "      <td>None</td>\n",
       "      <td>03/09</td>\n",
       "    </tr>\n",
       "    <tr>\n",
       "      <th>34</th>\n",
       "      <td>90</td>\n",
       "      <td>2020-03-10 08:00:00</td>\n",
       "      <td>None</td>\n",
       "      <td>4</td>\n",
       "      <td>0</td>\n",
       "      <td>0</td>\n",
       "      <td>0</td>\n",
       "      <td>2</td>\n",
       "      <td>None</td>\n",
       "      <td>None</td>\n",
       "      <td>...</td>\n",
       "      <td>None</td>\n",
       "      <td>None</td>\n",
       "      <td>None</td>\n",
       "      <td>None</td>\n",
       "      <td>None</td>\n",
       "      <td>None</td>\n",
       "      <td>{9DF87361-2D53-4A06-8DF9-A986B660061D}</td>\n",
       "      <td>None</td>\n",
       "      <td>None</td>\n",
       "      <td>03/10</td>\n",
       "    </tr>\n",
       "    <tr>\n",
       "      <th>3</th>\n",
       "      <td>59</td>\n",
       "      <td>2020-03-11 08:00:00</td>\n",
       "      <td>123</td>\n",
       "      <td>5</td>\n",
       "      <td>None</td>\n",
       "      <td>None</td>\n",
       "      <td>None</td>\n",
       "      <td>1</td>\n",
       "      <td>None</td>\n",
       "      <td>None</td>\n",
       "      <td>...</td>\n",
       "      <td>None</td>\n",
       "      <td>None</td>\n",
       "      <td>None</td>\n",
       "      <td>None</td>\n",
       "      <td>None</td>\n",
       "      <td>None</td>\n",
       "      <td>{78698F35-A6E9-48CB-8C8D-67A70EC15C1D}</td>\n",
       "      <td>None</td>\n",
       "      <td>None</td>\n",
       "      <td>03/11</td>\n",
       "    </tr>\n",
       "  </tbody>\n",
       "</table>\n",
       "<p>5 rows × 25 columns</p>\n",
       "</div>"
      ],
      "text/plain": [
       "   objectid                date tests positives hospitalized   icu deaths  \\\n",
       "31       87 2020-03-07 08:00:00  None         1            0     0      0   \n",
       "32       88 2020-03-08 08:00:00  None         2            0     0      0   \n",
       "33       89 2020-03-09 08:00:00  None         2            0     0      0   \n",
       "34       90 2020-03-10 08:00:00  None         4            0     0      0   \n",
       "3        59 2020-03-11 08:00:00   123         5         None  None   None   \n",
       "\n",
       "   newcases age_9 age10_19  ... ageunknow age20_29 genderfemale gendermale  \\\n",
       "31        1  None     None  ...      None     None         None       None   \n",
       "32        1  None     None  ...      None     None         None       None   \n",
       "33        0  None     None  ...      None     None         None       None   \n",
       "34        2  None     None  ...      None     None         None       None   \n",
       "3         1  None     None  ...      None     None         None       None   \n",
       "\n",
       "   gendeunk age30_39                                globalid newtests  \\\n",
       "31     None     None  {CE98E5A7-7D8E-4D20-BC84-069A17D43232}     None   \n",
       "32     None     None  {8AC07123-E9DA-4D83-9720-7BF93E4B6C44}     None   \n",
       "33     None     None  {52083240-452D-41A6-BD0F-2D424B2745BC}     None   \n",
       "34     None     None  {9DF87361-2D53-4A06-8DF9-A986B660061D}     None   \n",
       "3      None     None  {78698F35-A6E9-48CB-8C8D-67A70EC15C1D}     None   \n",
       "\n",
       "   rolling_perc_pos_cases date_str  \n",
       "31                   None    03/07  \n",
       "32                   None    03/08  \n",
       "33                   None    03/09  \n",
       "34                   None    03/10  \n",
       "3                    None    03/11  \n",
       "\n",
       "[5 rows x 25 columns]"
      ]
     },
     "execution_count": 9,
     "metadata": {},
     "output_type": "execute_result"
    }
   ],
   "source": [
    "df.head()"
   ]
  },
  {
   "cell_type": "markdown",
   "metadata": {
    "deletable": true,
    "editable": true
   },
   "source": [
    "Okay, now that we have the data in the format we want it, let's try our first approach. Let's just overlay the two graphs:"
   ]
  },
  {
   "cell_type": "code",
   "execution_count": 11,
   "metadata": {
    "collapsed": false,
    "deletable": true,
    "editable": true
   },
   "outputs": [
    {
     "data": {
      "image/png": "[encoded data removed]",
      "text/plain": [
       "<Figure size 1080x216 with 2 Axes>"
      ]
     },
     "metadata": {
      "needs_background": "light"
     },
     "output_type": "display_data"
    }
   ],
   "source": [
    "df.set_index('date_str')[['newcases', 'newtests']].plot.bar(figsize=figsize, secondary_y= 'newtests', rot=70)\n",
    "plt.ylabel('Number of cases')\n",
    "plt.xlabel('Date');"
   ]
  },
  {
   "cell_type": "code",
   "execution_count": 12,
   "metadata": {
    "collapsed": false,
    "deletable": true,
    "editable": true,
    "scrolled": true
   },
   "outputs": [
    {
     "data": {
      "image/png": "[encoded data removed]",
      "text/plain": [
       "<Figure size 432x288 with 1 Axes>"
      ]
     },
     "metadata": {
      "needs_background": "light"
     },
     "output_type": "display_data"
    }
   ],
   "source": [
    "plt.scatter(df['newcases'].values, df['newtests'].values, c=df['objectid']/df['objectid'].max(), cmap='Blues')\n",
    "plt.ylabel('New Tests (daily)')\n",
    "plt.xlabel('New Cases (daily)');"
   ]
  },
  {
   "cell_type": "markdown",
   "metadata": {
    "deletable": true,
    "editable": true
   },
   "source": [
    "Both plots definitely show some correlation in there, which makes sense. Since we can't just test everyone, ..."
   ]
  },
  {
   "cell_type": "markdown",
   "metadata": {},
   "source": [
    "Next thoughts:\n",
    "* https://www.youtube.com/watch?v=mCa0JXEwDEk\n",
    "* https://www.youtube.com/watch?v=54XLXg4fYsc"
   ]
  },
  {
   "cell_type": "code",
   "execution_count": 14,
   "metadata": {
    "collapsed": false
   },
   "outputs": [
    {
     "data": {
      "text/plain": [
       "Index(['objectid', 'date', 'tests', 'positives', 'hospitalized', 'icu',\n",
       "       'deaths', 'newcases', 'age_9', 'age10_19', 'age40_49', 'age50_59',\n",
       "       'age60_69', 'age70_79', 'age80_plus', 'ageunknow', 'age20_29',\n",
       "       'genderfemale', 'gendermale', 'gendeunk', 'age30_39', 'globalid',\n",
       "       'newtests', 'rolling_perc_pos_cases', 'date_str'],\n",
       "      dtype='object')"
      ]
     },
     "execution_count": 14,
     "metadata": {},
     "output_type": "execute_result"
    }
   ],
   "source": [
    "df.columns"
   ]
  },
  {
   "cell_type": "code",
   "execution_count": 16,
   "metadata": {
    "collapsed": false
   },
   "outputs": [],
   "source": [
    "df['total_cases'] = df['newcases'].cumsum()"
   ]
  },
  {
   "cell_type": "code",
   "execution_count": 86,
   "metadata": {
    "collapsed": true
   },
   "outputs": [],
   "source": [
    "def plot_by_time(col):\n",
    "    df.set_index('date_str')[col].plot.bar(figsize=figsize, rot=70)"
   ]
  },
  {
   "cell_type": "code",
   "execution_count": 87,
   "metadata": {
    "collapsed": false,
    "scrolled": false
   },
   "outputs": [
    {
     "data": {
      "image/png": "[encoded data removed]",
      "text/plain": [
       "<Figure size 1080x216 with 1 Axes>"
      ]
     },
     "metadata": {
      "needs_background": "light"
     },
     "output_type": "display_data"
    }
   ],
   "source": [
    "plot_by_time(col='total_cases')\n",
    "plt.title('Total number of cases')\n",
    "plt.ylabel('Number of cases')\n",
    "plt.xlabel('Date');"
   ]
  },
  {
   "cell_type": "code",
   "execution_count": 31,
   "metadata": {
    "collapsed": false,
    "deletable": true,
    "editable": true
   },
   "outputs": [
    {
     "data": {
      "text/plain": [
       "1.0"
      ]
     },
     "execution_count": 31,
     "metadata": {},
     "output_type": "execute_result"
    }
   ],
   "source": [
    "# test out our formula - we should get a doubling rate of 1 day\n",
    "q1 = 100\n",
    "q2 = 200\n",
    "time_delta = 1 # days\n",
    "\n",
    "time_delta * np.log(2) / np.log(q2/q1)"
   ]
  },
  {
   "cell_type": "code",
   "execution_count": 95,
   "metadata": {
    "collapsed": false,
    "deletable": true,
    "editable": true,
    "scrolled": false
   },
   "outputs": [
    {
     "name": "stderr",
     "output_type": "stream",
     "text": [
      "<ipython-input-95-932b256571a7>:3: RuntimeWarning: divide by zero encountered in true_divide\n",
      "  df['days_to_double'] = time_delta * np.log(2) / np.log(np.array(df.shift(periods=-time_delta)['total_cases'], dtype=float) / np.array(df['total_cases'], dtype=float))\n"
     ]
    },
    {
     "data": {
      "image/png": "[encoded data removed]",
      "text/plain": [
       "<Figure size 1080x216 with 1 Axes>"
      ]
     },
     "metadata": {
      "needs_background": "light"
     },
     "output_type": "display_data"
    },
    {
     "data": {
      "image/png": "[encoded data removed]",
      "text/plain": [
       "<Figure size 1080x216 with 1 Axes>"
      ]
     },
     "metadata": {
      "needs_background": "light"
     },
     "output_type": "display_data"
    },
    {
     "data": {
      "image/png": "[encoded data removed]",
      "text/plain": [
       "<Figure size 1080x216 with 1 Axes>"
      ]
     },
     "metadata": {
      "needs_background": "light"
     },
     "output_type": "display_data"
    },
    {
     "data": {
      "image/png": "[encoded data removed]",
      "text/plain": [
       "<Figure size 1080x216 with 1 Axes>"
      ]
     },
     "metadata": {
      "needs_background": "light"
     },
     "output_type": "display_data"
    }
   ],
   "source": [
    "for i in range(1, 20, 6):\n",
    "    time_delta = i # days\n",
    "    df['days_to_double'] = time_delta * np.log(2) / np.log(np.array(df.shift(periods=-time_delta)['total_cases'], dtype=float) / np.array(df['total_cases'], dtype=float))\n",
    "    \n",
    "    plt.figure()\n",
    "    plt.title(f'Doubling rate {i} days out')\n",
    "    plot_by_time('days_to_double')\n",
    "    plt.ylabel('Time for reported cases double (days)')\n",
    "    plt.xlabel('Date');"
   ]
  },
  {
   "cell_type": "code",
   "execution_count": 51,
   "metadata": {
    "collapsed": false,
    "deletable": true,
    "editable": true
   },
   "outputs": [],
   "source": [
    "# we'll choose a spread of 7 days\n",
    "time_delta = 7 # days\n",
    "df['days_to_double'] = time_delta * np.log(2) / np.log(np.array(df.shift(periods=-time_delta)['total_cases'], dtype=float) / np.array(df['total_cases'], dtype=float))"
   ]
  },
  {
   "cell_type": "code",
   "execution_count": 60,
   "metadata": {
    "collapsed": true
   },
   "outputs": [],
   "source": [
    "mortality_rate = 0.01 # 1%\n",
    "infection_to_death_time = 20 # days"
   ]
  },
  {
   "cell_type": "code",
   "execution_count": 69,
   "metadata": {
    "collapsed": false
   },
   "outputs": [
    {
     "name": "stdout",
     "output_type": "stream",
     "text": [
      "There were 3 deaths today meaning there were 300.0 cases_20_days_ago.\n",
      "Since then the number of cases doubled 2.0 times, so there should be 1200.0 actual cases today.\n"
     ]
    }
   ],
   "source": [
    "# example\n",
    "deaths_today = 3\n",
    "doubling_time_days = 10\n",
    "\n",
    "cases_20_days_ago = deaths_today / mortality_rate\n",
    "number_of_times_doubled = infection_to_death_time / doubling_time_days\n",
    "cases_estimate_by_deaths = np.exp2(number_of_times_doubled) * cases_20_days_ago\n",
    "\n",
    "print(f'There were {deaths_today} deaths today meaning there were {cases_20_days_ago} cases_20_days_ago.\\n' + \n",
    "      f'Since then the number of cases doubled {number_of_times_doubled} times, so there should be {cases_estimate_by_deaths} actual cases today.')"
   ]
  },
  {
   "cell_type": "code",
   "execution_count": 82,
   "metadata": {
    "collapsed": false
   },
   "outputs": [],
   "source": [
    "df['estimated_total_cases'] = df.apply(lambda row:\n",
    "         np.exp2(infection_to_death_time / row['days_to_double']) * row['deaths_today'] / mortality_rate\n",
    "         ,axis=1\n",
    ")"
   ]
  },
  {
   "cell_type": "code",
   "execution_count": 90,
   "metadata": {
    "collapsed": false
   },
   "outputs": [
    {
     "data": {
      "image/png": "[encoded data removed]",
      "text/plain": [
       "<Figure size 1080x216 with 1 Axes>"
      ]
     },
     "metadata": {
      "needs_background": "light"
     },
     "output_type": "display_data"
    }
   ],
   "source": [
    "plot_by_time('estimated_total_cases')"
   ]
  },
  {
   "cell_type": "code",
   "execution_count": null,
   "metadata": {
    "collapsed": true
   },
   "outputs": [],
   "source": []
  },
  {
   "cell_type": "code",
   "execution_count": null,
   "metadata": {
    "collapsed": true
   },
   "outputs": [],
   "source": []
  },
  {
   "cell_type": "code",
   "execution_count": null,
   "metadata": {
    "collapsed": true
   },
   "outputs": [],
   "source": []
  }
 ],
 "metadata": {
  "kernelspec": {
   "display_name": "dsenv",
   "language": "python",
   "name": "dsenv"
  },
  "language_info": {
   "codemirror_mode": {
    "name": "ipython",
    "version": 3
   },
   "file_extension": ".py",
   "mimetype": "text/x-python",
   "name": "python",
   "nbconvert_exporter": "python",
   "pygments_lexer": "ipython3",
   "version": "3.8.3"
  }
 },
 "nbformat": 4,
 "nbformat_minor": 2
}
